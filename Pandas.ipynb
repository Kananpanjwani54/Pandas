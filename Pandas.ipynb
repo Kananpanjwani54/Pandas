{
 "cells": [
  {
   "cell_type": "markdown",
   "id": "a629f31d-530c-47bb-8b1b-885feb05c5fb",
   "metadata": {},
   "source": [
    "# pandas \n",
    "## its has 2 core data structure :-- series and data frame\n"
   ]
  },
  {
   "cell_type": "code",
   "execution_count": null,
   "id": "1fcd3c4d-eef8-4150-89cd-dc0feb525d2d",
   "metadata": {},
   "outputs": [],
   "source": [
    "# series:- 1d-->labelled data array can ve compared with dictionary but dic is slow bec panda use vectorization operations .\n",
    "#data frame --> 2d labelled table.\n",
    "# web api can be created using pandas instead sql,excel etc.\n",
    "#built on top of numpy "
   ]
  },
  {
   "cell_type": "code",
   "execution_count": 6,
   "id": "b4774c5f-6c0f-4c5d-9b54-2a081704f20e",
   "metadata": {},
   "outputs": [],
   "source": [
    "#creating series\n",
    "import pandas as pd\n",
    "s=pd.Series([45,26,35,49,66,74,33])"
   ]
  },
  {
   "cell_type": "code",
   "execution_count": 7,
   "id": "313f03e6-6c6a-400f-9f8f-726efe4e7614",
   "metadata": {},
   "outputs": [
    {
     "data": {
      "text/plain": [
       "pandas.core.series.Series"
      ]
     },
     "execution_count": 7,
     "metadata": {},
     "output_type": "execute_result"
    }
   ],
   "source": [
    "type(s)"
   ]
  },
  {
   "cell_type": "code",
   "execution_count": 8,
   "id": "ca34cad5-c0a2-42ed-ab66-39da76aa31a3",
   "metadata": {},
   "outputs": [
    {
     "name": "stdout",
     "output_type": "stream",
     "text": [
      "0    45\n",
      "1    26\n",
      "2    35\n",
      "3    49\n",
      "4    66\n",
      "5    74\n",
      "6    33\n",
      "dtype: int64\n"
     ]
    }
   ],
   "source": [
    "print(s) #automatically indexing\n"
   ]
  },
  {
   "cell_type": "code",
   "execution_count": 11,
   "id": "5a7c7367-6f05-4ce0-8545-ff05b299bcfc",
   "metadata": {},
   "outputs": [
    {
     "name": "stdout",
     "output_type": "stream",
     "text": [
      "A    33\n",
      "B    56\n",
      "C    78\n",
      "D    90\n",
      "E    87\n",
      "F    65\n",
      "dtype: int64\n"
     ]
    }
   ],
   "source": [
    "#manually indexing \n",
    "s1=pd.Series([33,56,78,90,87,65],index=[\"A\",\"B\",\"C\",\"D\",\"E\",\"F\"])\n",
    "print(s1)"
   ]
  },
  {
   "cell_type": "code",
   "execution_count": 13,
   "id": "b084f58b-9ac1-4f80-812f-bd627de6f9c5",
   "metadata": {},
   "outputs": [
    {
     "name": "stdout",
     "output_type": "stream",
     "text": [
      "33\n"
     ]
    },
    {
     "data": {
      "text/plain": [
       "90"
      ]
     },
     "execution_count": 13,
     "metadata": {},
     "output_type": "execute_result"
    }
   ],
   "source": [
    "print(s1[\"A\"])\n",
    "s1[\"D\"]"
   ]
  },
  {
   "cell_type": "markdown",
   "id": "790f55b0-1dfb-421d-b5b0-5d8869a63b64",
   "metadata": {},
   "source": [
    "# DataFrame — 2D Labeled Table\n",
    "A DataFrame is like a dictionary of Series — multiple columns with labels"
   ]
  },
  {
   "cell_type": "code",
   "execution_count": 14,
   "id": "933f569c-c2ed-4c2a-9289-2656d19b4a20",
   "metadata": {},
   "outputs": [
    {
     "name": "stdout",
     "output_type": "stream",
     "text": [
      "      name  age       city\n",
      "0    Alice   25      Delhi\n",
      "1      Bob   30     Mumbai\n",
      "2  Charlie   35  Bangalore\n"
     ]
    }
   ],
   "source": [
    "data = {\n",
    "    \"name\": [\"Alice\", \"Bob\", \"Charlie\"],\n",
    "    \"age\": [25, 30, 35],\n",
    "    \"city\": [\"Delhi\", \"Mumbai\", \"Bangalore\"]\n",
    "}\n",
    "\n",
    "df = pd.DataFrame(data)\n",
    "print(df)"
   ]
  },
  {
   "cell_type": "code",
   "execution_count": 23,
   "id": "7f8ccb3b-7ad7-48b6-91ff-8a9f1b2ee72e",
   "metadata": {},
   "outputs": [
    {
     "name": "stdout",
     "output_type": "stream",
     "text": [
      "Alice\n",
      "['Alice', 'Bob', 'Charlie']\n"
     ]
    }
   ],
   "source": [
    "print(data[\"name\"][0])\n",
    "print(data[\"name\"])"
   ]
  },
  {
   "cell_type": "code",
   "execution_count": 24,
   "id": "222c33d4-cbab-435a-81d8-3d38f99f5850",
   "metadata": {},
   "outputs": [
    {
     "data": {
      "text/plain": [
       "RangeIndex(start=0, stop=3, step=1)"
      ]
     },
     "execution_count": 24,
     "metadata": {},
     "output_type": "execute_result"
    }
   ],
   "source": [
    "df.index # Row labels "
   ]
  },
  {
   "cell_type": "code",
   "execution_count": 25,
   "id": "2a393ac0-f3b5-41a5-9f01-519ca3456474",
   "metadata": {},
   "outputs": [
    {
     "data": {
      "text/plain": [
       "Index(['name', 'age', 'city'], dtype='object')"
      ]
     },
     "execution_count": 25,
     "metadata": {},
     "output_type": "execute_result"
    }
   ],
   "source": [
    "df.columns #col labels"
   ]
  },
  {
   "cell_type": "code",
   "execution_count": 42,
   "id": "ae3b9e50-595b-4fa7-a127-c31f3912d368",
   "metadata": {},
   "outputs": [],
   "source": [
    "df.columns = [\"A\", \"B\", \"C\""
   ]
  },
  {
   "cell_type": "code",
   "execution_count": 49,
   "id": "f1034df3-280a-47a1-8f63-bb7298035bfc",
   "metadata": {},
   "outputs": [
    {
     "name": "stdout",
     "output_type": "stream",
     "text": [
      "Index(['name', 'age', 'city'], dtype='object')\n",
      "Index(['name', 'age', 'city'], dtype='object')\n"
     ]
    }
   ],
   "source": [
    "print(df.columns)\n",
    "df = pd.DataFrame(data)\n",
    "print(df)"
   ]
  },
  {
   "cell_type": "code",
   "execution_count": 47,
   "id": "df56518a-18ab-4dd7-91a4-de3ab305a1b2",
   "metadata": {},
   "outputs": [
    {
     "data": {
      "text/html": [
       "<div>\n",
       "<style scoped>\n",
       "    .dataframe tbody tr th:only-of-type {\n",
       "        vertical-align: middle;\n",
       "    }\n",
       "\n",
       "    .dataframe tbody tr th {\n",
       "        vertical-align: top;\n",
       "    }\n",
       "\n",
       "    .dataframe thead th {\n",
       "        text-align: right;\n",
       "    }\n",
       "</style>\n",
       "<table border=\"1\" class=\"dataframe\">\n",
       "  <thead>\n",
       "    <tr style=\"text-align: right;\">\n",
       "      <th></th>\n",
       "      <th>A</th>\n",
       "      <th>B</th>\n",
       "      <th>C</th>\n",
       "    </tr>\n",
       "  </thead>\n",
       "  <tbody>\n",
       "    <tr>\n",
       "      <th>0</th>\n",
       "      <td>Alice</td>\n",
       "      <td>25</td>\n",
       "      <td>Delhi</td>\n",
       "    </tr>\n",
       "    <tr>\n",
       "      <th>1</th>\n",
       "      <td>Bob</td>\n",
       "      <td>30</td>\n",
       "      <td>Mumbai</td>\n",
       "    </tr>\n",
       "    <tr>\n",
       "      <th>2</th>\n",
       "      <td>Charlie</td>\n",
       "      <td>35</td>\n",
       "      <td>Bangalore</td>\n",
       "    </tr>\n",
       "  </tbody>\n",
       "</table>\n",
       "</div>"
      ],
      "text/plain": [
       "         A   B          C\n",
       "0    Alice  25      Delhi\n",
       "1      Bob  30     Mumbai\n",
       "2  Charlie  35  Bangalore"
      ]
     },
     "execution_count": 47,
     "metadata": {},
     "output_type": "execute_result"
    }
   ],
   "source": [
    "df.rename(columns={\"name\": \"A\",\"age\" :\"B\",\"city\": \"C\"})\n"
   ]
  },
  {
   "cell_type": "code",
   "execution_count": null,
   "id": "c3a9c44b-7370-48b1-af12-14c04d83ebd3",
   "metadata": {},
   "outputs": [],
   "source": []
  }
 ],
 "metadata": {
  "kernelspec": {
   "display_name": "Python [conda env:base] *",
   "language": "python",
   "name": "conda-base-py"
  },
  "language_info": {
   "codemirror_mode": {
    "name": "ipython",
    "version": 3
   },
   "file_extension": ".py",
   "mimetype": "text/x-python",
   "name": "python",
   "nbconvert_exporter": "python",
   "pygments_lexer": "ipython3",
   "version": "3.12.7"
  }
 },
 "nbformat": 4,
 "nbformat_minor": 5
}
